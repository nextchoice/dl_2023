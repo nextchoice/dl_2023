{
 "cells": [
  {
   "cell_type": "code",
   "execution_count": 27,
   "metadata": {},
   "outputs": [
    {
     "data": {
      "text/plain": [
       "(60000, 28, 28)"
      ]
     },
     "execution_count": 27,
     "metadata": {},
     "output_type": "execute_result"
    }
   ],
   "source": [
    "from keras.layers import Dense, Flatten\n",
    "from keras.models import Sequential\n",
    "from keras.utils import to_categorical\n",
    "\n",
    "from keras.datasets import mnist\n",
    "\n",
    "(X_train, y_train), (X_test, y_test) = mnist.load_data()\n",
    "\n",
    "X_train.shape\n"
   ]
  },
  {
   "cell_type": "code",
   "execution_count": 28,
   "metadata": {},
   "outputs": [
    {
     "data": {
      "image/png": "[encoded data removed]",
      "text/plain": [
       "<Figure size 640x480 with 1 Axes>"
      ]
     },
     "metadata": {},
     "output_type": "display_data"
    }
   ],
   "source": [
    "import numpy as np\n",
    "import matplotlib.pyplot as plt\n",
    "\n",
    "plt.imshow(X_train[0], cmap='Greys')\n",
    "plt.show()"
   ]
  },
  {
   "cell_type": "code",
   "execution_count": 21,
   "metadata": {},
   "outputs": [
    {
     "name": "stdout",
     "output_type": "stream",
     "text": [
      "5\n"
     ]
    }
   ],
   "source": [
    "print(y_train[0])"
   ]
  },
  {
   "cell_type": "code",
   "execution_count": 22,
   "metadata": {},
   "outputs": [],
   "source": [
    "# model = Sequential()\n",
    "# model.add(Dense(100, input_shape=(28,28), activation='relu'))\n",
    "# model.add(Dense(50, activation='sigmoid'))\n",
    "# model.add(Dense(1, activation='relu'))\n",
    "# model.add(Flatten())\n",
    "# model.add(Dense(1, activation='simoid'))\n",
    "# model.summary()\n"
   ]
  },
  {
   "cell_type": "code",
   "execution_count": 23,
   "metadata": {},
   "outputs": [],
   "source": [
    "# model.compile(optimizer='sqd', loss=\"categorical_crossentropy\", metrics='accuracy')\n",
    "# model.fint(X_train, y_train, epochs=10, batch_size=100)"
   ]
  },
  {
   "cell_type": "code",
   "execution_count": 24,
   "metadata": {},
   "outputs": [],
   "source": [
    "# y_train = y_train.reshape(-1, 1)\n",
    "# y_train.shape"
   ]
  },
  {
   "cell_type": "code",
   "execution_count": 29,
   "metadata": {},
   "outputs": [
    {
     "name": "stdout",
     "output_type": "stream",
     "text": [
      "Model: \"sequential_5\"\n",
      "_________________________________________________________________\n",
      " Layer (type)                Output Shape              Param #   \n",
      "=================================================================\n",
      " flatten_3 (Flatten)         (None, 784)               0         \n",
      "                                                                 \n",
      " dense_10 (Dense)            (None, 256)               200960    \n",
      "                                                                 \n",
      " dense_11 (Dense)            (None, 54)                13878     \n",
      "                                                                 \n",
      " dense_12 (Dense)            (None, 10)                550       \n",
      "                                                                 \n",
      "=================================================================\n",
      "Total params: 215,388\n",
      "Trainable params: 215,388\n",
      "Non-trainable params: 0\n",
      "_________________________________________________________________\n"
     ]
    }
   ],
   "source": [
    "\n",
    "y_train = to_categorical(y_train)\n",
    "_\n",
    "model = Sequential([\n",
    "    Flatten(input_shape=X_train.shape[1:]),\n",
    "    Dense(256, activation='relu'),\n",
    "    Dense(54, activation='relu'),\n",
    "    Dense(10, activation='softmax')\n",
    "])\n",
    "\n",
    "model.summary()"
   ]
  },
  {
   "cell_type": "code",
   "execution_count": 30,
   "metadata": {},
   "outputs": [
    {
     "name": "stdout",
     "output_type": "stream",
     "text": [
      "Epoch 1/10\n",
      "600/600 [==============================] - 3s 4ms/step - loss: 2.0868 - accuracy: 0.7378\n",
      "Epoch 2/10\n",
      "600/600 [==============================] - 3s 4ms/step - loss: 0.4483 - accuracy: 0.8767\n",
      "Epoch 3/10\n",
      "600/600 [==============================] - 3s 5ms/step - loss: 0.3210 - accuracy: 0.9132\n",
      "Epoch 4/10\n",
      "600/600 [==============================] - 4s 6ms/step - loss: 0.2410 - accuracy: 0.9348\n",
      "Epoch 5/10\n",
      "600/600 [==============================] - 3s 4ms/step - loss: 0.1963 - accuracy: 0.9472\n",
      "Epoch 6/10\n",
      "600/600 [==============================] - 3s 5ms/step - loss: 0.1607 - accuracy: 0.9551\n",
      "Epoch 7/10\n",
      "600/600 [==============================] - 4s 7ms/step - loss: 0.1289 - accuracy: 0.9637\n",
      "Epoch 8/10\n",
      "600/600 [==============================] - 5s 9ms/step - loss: 0.1171 - accuracy: 0.9693\n",
      "Epoch 9/10\n",
      "600/600 [==============================] - 5s 8ms/step - loss: 0.1027 - accuracy: 0.9726\n",
      "Epoch 10/10\n",
      "600/600 [==============================] - 3s 5ms/step - loss: 0.0844 - accuracy: 0.9768\n"
     ]
    },
    {
     "data": {
      "text/plain": [
       "<keras.callbacks.History at 0x7f0534ac1060>"
      ]
     },
     "execution_count": 30,
     "metadata": {},
     "output_type": "execute_result"
    }
   ],
   "source": [
    "model.compile(optimizer='adam', loss=\"categorical_crossentropy\", metrics=['accuracy'])\n",
    "model.fit(X_train, y_train, epochs=10, batch_size=100)"
   ]
  },
  {
   "cell_type": "code",
   "execution_count": 39,
   "metadata": {},
   "outputs": [
    {
     "name": "stdout",
     "output_type": "stream",
     "text": [
      "313/313 [==============================] - 1s 2ms/step\n",
      "[2.4133565e-20 2.7336495e-04 5.9516606e-07 7.3540697e-08 1.1635884e-06\n",
      " 7.5100350e-16 4.9716088e-20 9.9999489e+01 1.5469412e-10 2.3990343e-04]\n"
     ]
    },
    {
     "data": {
      "image/png": "[encoded data removed]",
      "text/plain": [
       "<Figure size 640x480 with 1 Axes>"
      ]
     },
     "metadata": {},
     "output_type": "display_data"
    }
   ],
   "source": [
    "plt.imshow(X_test[0])\n",
    "\n",
    "y_predict = model.predict(X_test)\n",
    "y_predict = y_predict * 100\n",
    "print(y_predict[0])"
   ]
  },
  {
   "cell_type": "code",
   "execution_count": 47,
   "metadata": {},
   "outputs": [
    {
     "name": "stdout",
     "output_type": "stream",
     "text": [
      "1/1 [==============================] - 0s 11ms/step\n",
      "9\n",
      "9\n"
     ]
    }
   ],
   "source": [
    "y_predict = model.predict(X_test[[7]])\n",
    "y_predict = y_predict * 100\n",
    "print(np.argmax(y_predict))\n",
    "print(y_test[7])"
   ]
  },
  {
   "cell_type": "code",
   "execution_count": 46,
   "metadata": {},
   "outputs": [
    {
     "data": {
      "text/plain": [
       "(54, 10)"
      ]
     },
     "execution_count": 46,
     "metadata": {},
     "output_type": "execute_result"
    }
   ],
   "source": [
    "def softmax(x):\n",
    "    return np.exp(x)/np.sum(np.exp(x))\n",
    "\n",
    "\n",
    "model.layers[3].get_weights()[0].shape"
   ]
  }
 ],
 "metadata": {
  "kernelspec": {
   "display_name": "deep",
   "language": "python",
   "name": "python3"
  },
  "language_info": {
   "codemirror_mode": {
    "name": "ipython",
    "version": 3
   },
   "file_extension": ".py",
   "mimetype": "text/x-python",
   "name": "python",
   "nbconvert_exporter": "python",
   "pygments_lexer": "ipython3",
   "version": "3.10.10"
  },
  "orig_nbformat": 4
 },
 "nbformat": 4,
 "nbformat_minor": 2
}
