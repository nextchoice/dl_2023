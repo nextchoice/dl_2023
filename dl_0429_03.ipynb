{
 "cells": [
  {
   "cell_type": "code",
   "execution_count": 5,
   "metadata": {},
   "outputs": [],
   "source": [
    "from keras import applications\n",
    "from keras.applications import InceptionV3\n",
    "import matplotlib.pyplot as plt\n",
    "import cv2 as cv\n",
    "import numpy as np\n",
    "from keras.layers import Conv2D, MaxPooling2D, Dense, Flatten\n",
    "from keras.models import Sequential\n",
    "from keras.utils import to_categorical, pad_sequences\n",
    "from keras.layers import BatchNormalization, Dropout\n",
    "\n",
    "from glob import glob\n",
    "\n",
    "base = InceptionV3(\n",
    "    include_top=False,\n",
    "    input_shape=(150, 150, 3)\n",
    ")"
   ]
  },
  {
   "cell_type": "code",
   "execution_count": 6,
   "metadata": {},
   "outputs": [],
   "source": [
    "base_dir = './kagglecatsanddogs_5340/PetImages'\n",
    "file_list_dog = glob(base_dir+'/Dog/*.jpg')[:1000]\n",
    "file_list_cat = glob(base_dir+'/Cat/*.jpg')[:1000]\n",
    "\n",
    "# 1000개\n",
    "file_list = np.concatenate([file_list_dog, file_list_cat], axis=0)\n",
    "X = np.zeros((len(file_list),150,150,3))\n",
    "y = []\n",
    "\n",
    "# 방법 2: data가 없는 파일 제거함.\n",
    "#         --> 제거 후에 나머지 이미지 파일은 channel 통일시킴\n",
    "for i, file in enumerate(file_list):\n",
    "    t = plt.imread(file)\n",
    "    f = cv.cvtColor(t, cv.COLOR_BGR2RGB)\n",
    "    f = cv.resize(f, (150,150))\n",
    "    if 'Cat' in file:\n",
    "        y.append(0)\n",
    "    else:\n",
    "        y.append(1)\n",
    "\n",
    "    X[i] = f\n",
    "\n",
    "y = np.array(y)\n",
    "\n",
    "index = np.random.choice(np.arange(len(X)), len(X), replace=False)\n",
    "tr_ind = index[:int(index.size*0.8)]\n",
    "te_idd = index[int(index.size*0.8):]\n",
    "\n",
    "X_train = X[tr_ind]\n",
    "y_train = y[tr_ind]\n",
    "\n",
    "X_test = X[te_idd]\n",
    "y_test = y[te_idd]"
   ]
  },
  {
   "cell_type": "code",
   "execution_count": 8,
   "metadata": {},
   "outputs": [
    {
     "name": "stdout",
     "output_type": "stream",
     "text": [
      "50/50 [==============================] - 17s 345ms/step\n"
     ]
    }
   ],
   "source": [
    "pretrained_X = base.predict(X_train)"
   ]
  },
  {
   "cell_type": "code",
   "execution_count": 9,
   "metadata": {},
   "outputs": [
    {
     "data": {
      "text/plain": [
       "(1600, 3, 3, 2048)"
      ]
     },
     "execution_count": 9,
     "metadata": {},
     "output_type": "execute_result"
    }
   ],
   "source": [
    "pretrained_X.shape"
   ]
  },
  {
   "cell_type": "code",
   "execution_count": 10,
   "metadata": {},
   "outputs": [],
   "source": [
    "model = Sequential(\n",
    "    [\n",
    "        Flatten(input_shape=(3,3,2048)),\n",
    "        Dense(2048, activation='relu'),\n",
    "        Dense(1024, activation='relu'),\n",
    "        Dense(1, activation='sigmoid')\n",
    "    ]\n",
    ")\n",
    "\n",
    "opt = 'adam'\n",
    "loss = 'binary_crossentropy'\n",
    "metrics = ['accuracy']\n",
    "model.compile(optimizer=opt,\n",
    "              loss=loss,\n",
    "              metrics=metrics)"
   ]
  },
  {
   "cell_type": "code",
   "execution_count": 11,
   "metadata": {},
   "outputs": [
    {
     "name": "stdout",
     "output_type": "stream",
     "text": [
      "Epoch 1/30\n",
      "50/50 [==============================] - 12s 240ms/step - loss: 132.8560 - accuracy: 0.5312\n",
      "Epoch 2/30\n",
      "50/50 [==============================] - 12s 236ms/step - loss: 4.2518 - accuracy: 0.5744\n",
      "Epoch 3/30\n",
      "50/50 [==============================] - 12s 234ms/step - loss: 2.0945 - accuracy: 0.6019\n",
      "Epoch 4/30\n",
      "50/50 [==============================] - 12s 238ms/step - loss: 1.0821 - accuracy: 0.6637\n",
      "Epoch 5/30\n",
      "50/50 [==============================] - 12s 238ms/step - loss: 0.9680 - accuracy: 0.6606\n",
      "Epoch 6/30\n",
      "50/50 [==============================] - 12s 243ms/step - loss: 0.9857 - accuracy: 0.6587\n",
      "Epoch 7/30\n",
      "50/50 [==============================] - 12s 243ms/step - loss: 0.6470 - accuracy: 0.7312\n",
      "Epoch 8/30\n",
      "50/50 [==============================] - 12s 237ms/step - loss: 0.6676 - accuracy: 0.7350\n",
      "Epoch 9/30\n",
      "50/50 [==============================] - 12s 235ms/step - loss: 0.4855 - accuracy: 0.7837\n",
      "Epoch 10/30\n",
      "50/50 [==============================] - 12s 231ms/step - loss: 0.5782 - accuracy: 0.7688\n",
      "Epoch 11/30\n",
      "50/50 [==============================] - 12s 239ms/step - loss: 0.5757 - accuracy: 0.7544\n",
      "Epoch 12/30\n",
      "50/50 [==============================] - 12s 234ms/step - loss: 0.5998 - accuracy: 0.7444\n",
      "Epoch 13/30\n",
      "50/50 [==============================] - 12s 242ms/step - loss: 0.4557 - accuracy: 0.7969\n",
      "Epoch 14/30\n",
      "50/50 [==============================] - 12s 241ms/step - loss: 0.4858 - accuracy: 0.8012\n",
      "Epoch 15/30\n",
      "50/50 [==============================] - 12s 240ms/step - loss: 0.6400 - accuracy: 0.7756\n",
      "Epoch 16/30\n",
      "50/50 [==============================] - 12s 235ms/step - loss: 0.5717 - accuracy: 0.7694\n",
      "Epoch 17/30\n",
      "50/50 [==============================] - 12s 239ms/step - loss: 0.5269 - accuracy: 0.7831\n",
      "Epoch 18/30\n",
      "50/50 [==============================] - 12s 244ms/step - loss: 0.4152 - accuracy: 0.8213\n",
      "Epoch 19/30\n",
      "50/50 [==============================] - 12s 236ms/step - loss: 0.4594 - accuracy: 0.7994\n",
      "Epoch 20/30\n",
      "50/50 [==============================] - 12s 233ms/step - loss: 0.4211 - accuracy: 0.8169\n",
      "Epoch 21/30\n",
      "50/50 [==============================] - 12s 232ms/step - loss: 0.2929 - accuracy: 0.8737\n",
      "Epoch 22/30\n",
      "50/50 [==============================] - 12s 237ms/step - loss: 0.3079 - accuracy: 0.8813\n",
      "Epoch 23/30\n",
      "50/50 [==============================] - 12s 238ms/step - loss: 0.4396 - accuracy: 0.7694\n",
      "Epoch 24/30\n",
      "50/50 [==============================] - 12s 236ms/step - loss: 0.3924 - accuracy: 0.8394\n",
      "Epoch 25/30\n",
      "50/50 [==============================] - 12s 240ms/step - loss: 0.4265 - accuracy: 0.7962\n",
      "Epoch 26/30\n",
      "50/50 [==============================] - 12s 236ms/step - loss: 0.2631 - accuracy: 0.8888\n",
      "Epoch 27/30\n",
      "50/50 [==============================] - 12s 237ms/step - loss: 0.3758 - accuracy: 0.8338\n",
      "Epoch 28/30\n",
      "50/50 [==============================] - 12s 232ms/step - loss: 0.5952 - accuracy: 0.7694\n",
      "Epoch 29/30\n",
      "50/50 [==============================] - 12s 242ms/step - loss: 0.7265 - accuracy: 0.5150\n",
      "Epoch 30/30\n",
      "50/50 [==============================] - 12s 238ms/step - loss: 0.6818 - accuracy: 0.5225\n"
     ]
    },
    {
     "data": {
      "text/plain": [
       "<keras.callbacks.History at 0x7fea2c5c6e30>"
      ]
     },
     "execution_count": 11,
     "metadata": {},
     "output_type": "execute_result"
    }
   ],
   "source": [
    "model.fit(pretrained_X, y_train, epochs=30)"
   ]
  },
  {
   "cell_type": "code",
   "execution_count": null,
   "metadata": {},
   "outputs": [],
   "source": [
    "model.save('cat_or_dog_with_inception.h5')"
   ]
  },
  {
   "cell_type": "code",
   "execution_count": 12,
   "metadata": {},
   "outputs": [
    {
     "name": "stdout",
     "output_type": "stream",
     "text": [
      "13/13 [==============================] - 4s 298ms/step\n"
     ]
    }
   ],
   "source": [
    "pretrained_X_test = base.predict(X_test)"
   ]
  },
  {
   "cell_type": "code",
   "execution_count": 13,
   "metadata": {},
   "outputs": [
    {
     "name": "stdout",
     "output_type": "stream",
     "text": [
      "13/13 [==============================] - 1s 36ms/step - loss: 0.7104 - accuracy: 0.5000\n"
     ]
    },
    {
     "data": {
      "text/plain": [
       "[0.7103828191757202, 0.5]"
      ]
     },
     "execution_count": 13,
     "metadata": {},
     "output_type": "execute_result"
    }
   ],
   "source": [
    "model.evaluate(pretrained_X_test, y_test)"
   ]
  },
  {
   "cell_type": "code",
   "execution_count": 16,
   "metadata": {},
   "outputs": [],
   "source": [
    "new_layers = base.layers.extend(model.layers)\n",
    "\n",
    "new_model = Sequential(new_layers)\n",
    "new_model.compile(optimizer=opt, loss=loss, metrics=metrics)"
   ]
  },
  {
   "cell_type": "code",
   "execution_count": 17,
   "metadata": {},
   "outputs": [
    {
     "ename": "ValueError",
     "evalue": "Weights for model sequential_2 have not yet been created. Weights are created when the Model is first called on inputs or `build()` is called with an `input_shape`.",
     "output_type": "error",
     "traceback": [
      "\u001b[0;31m---------------------------------------------------------------------------\u001b[0m",
      "\u001b[0;31mValueError\u001b[0m                                Traceback (most recent call last)",
      "Cell \u001b[0;32mIn[17], line 1\u001b[0m\n\u001b[0;32m----> 1\u001b[0m new_model\u001b[39m.\u001b[39;49msave(\u001b[39m'\u001b[39;49m\u001b[39mcat_or_dog_with_inception.h5\u001b[39;49m\u001b[39m'\u001b[39;49m)\n",
      "File \u001b[0;32m~/anaconda3/envs/deep/lib/python3.10/site-packages/keras/utils/traceback_utils.py:70\u001b[0m, in \u001b[0;36mfilter_traceback.<locals>.error_handler\u001b[0;34m(*args, **kwargs)\u001b[0m\n\u001b[1;32m     67\u001b[0m     filtered_tb \u001b[39m=\u001b[39m _process_traceback_frames(e\u001b[39m.\u001b[39m__traceback__)\n\u001b[1;32m     68\u001b[0m     \u001b[39m# To get the full stack trace, call:\u001b[39;00m\n\u001b[1;32m     69\u001b[0m     \u001b[39m# `tf.debugging.disable_traceback_filtering()`\u001b[39;00m\n\u001b[0;32m---> 70\u001b[0m     \u001b[39mraise\u001b[39;00m e\u001b[39m.\u001b[39mwith_traceback(filtered_tb) \u001b[39mfrom\u001b[39;00m \u001b[39mNone\u001b[39m\n\u001b[1;32m     71\u001b[0m \u001b[39mfinally\u001b[39;00m:\n\u001b[1;32m     72\u001b[0m     \u001b[39mdel\u001b[39;00m filtered_tb\n",
      "File \u001b[0;32m~/anaconda3/envs/deep/lib/python3.10/site-packages/keras/engine/training.py:3545\u001b[0m, in \u001b[0;36mModel._assert_weights_created\u001b[0;34m(self)\u001b[0m\n\u001b[1;32m   3534\u001b[0m     \u001b[39mreturn\u001b[39;00m\n\u001b[1;32m   3536\u001b[0m \u001b[39mif\u001b[39;00m (\n\u001b[1;32m   3537\u001b[0m     \u001b[39m\"\u001b[39m\u001b[39mbuild\u001b[39m\u001b[39m\"\u001b[39m \u001b[39min\u001b[39;00m \u001b[39mself\u001b[39m\u001b[39m.\u001b[39m\u001b[39m__class__\u001b[39m\u001b[39m.\u001b[39m\u001b[39m__dict__\u001b[39m\n\u001b[1;32m   3538\u001b[0m     \u001b[39mand\u001b[39;00m \u001b[39mself\u001b[39m\u001b[39m.\u001b[39m\u001b[39m__class__\u001b[39m \u001b[39m!=\u001b[39m Model\n\u001b[0;32m   (...)\u001b[0m\n\u001b[1;32m   3543\u001b[0m     \u001b[39m# Also make sure to exclude Model class itself which has build()\u001b[39;00m\n\u001b[1;32m   3544\u001b[0m     \u001b[39m# defined.\u001b[39;00m\n\u001b[0;32m-> 3545\u001b[0m     \u001b[39mraise\u001b[39;00m \u001b[39mValueError\u001b[39;00m(\n\u001b[1;32m   3546\u001b[0m         \u001b[39mf\u001b[39m\u001b[39m\"\u001b[39m\u001b[39mWeights for model \u001b[39m\u001b[39m{\u001b[39;00m\u001b[39mself\u001b[39m\u001b[39m.\u001b[39mname\u001b[39m}\u001b[39;00m\u001b[39m have not yet been \u001b[39m\u001b[39m\"\u001b[39m\n\u001b[1;32m   3547\u001b[0m         \u001b[39m\"\u001b[39m\u001b[39mcreated. \u001b[39m\u001b[39m\"\u001b[39m\n\u001b[1;32m   3548\u001b[0m         \u001b[39m\"\u001b[39m\u001b[39mWeights are created when the Model is first called on \u001b[39m\u001b[39m\"\u001b[39m\n\u001b[1;32m   3549\u001b[0m         \u001b[39m\"\u001b[39m\u001b[39minputs or `build()` is called with an `input_shape`.\u001b[39m\u001b[39m\"\u001b[39m\n\u001b[1;32m   3550\u001b[0m     )\n",
      "\u001b[0;31mValueError\u001b[0m: Weights for model sequential_2 have not yet been created. Weights are created when the Model is first called on inputs or `build()` is called with an `input_shape`."
     ]
    }
   ],
   "source": [
    "new_model.save('cat_or_dog_with_inception.h5')"
   ]
  }
 ],
 "metadata": {
  "kernelspec": {
   "display_name": "deep",
   "language": "python",
   "name": "python3"
  },
  "language_info": {
   "codemirror_mode": {
    "name": "ipython",
    "version": 3
   },
   "file_extension": ".py",
   "mimetype": "text/x-python",
   "name": "python",
   "nbconvert_exporter": "python",
   "pygments_lexer": "ipython3",
   "version": "3.10.10"
  },
  "orig_nbformat": 4
 },
 "nbformat": 4,
 "nbformat_minor": 2
}
