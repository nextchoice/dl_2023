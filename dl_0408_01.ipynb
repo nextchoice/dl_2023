{
 "cells": [
  {
   "attachments": {},
   "cell_type": "markdown",
   "metadata": {},
   "source": [
    "### Deep Learning 기초\n",
    "**2023/04/08 : 6주차**"
   ]
  },
  {
   "attachments": {},
   "cell_type": "markdown",
   "metadata": {},
   "source": [
    "**1. 선형회귀(linear regression)**\n",
    "<br>\n",
    "<p>\n",
    " 회귀(regression)는 가격이나 확률 같이 연속된 출력 값을 예측하는 것이 목적입니다.<br>\n",
    "이와는 달리 분류(classification)는 여러개의 클래스 중 하나의 클래스를 선택하는 것이 목적입니다.\n",
    "(https://www.tensorflow.org/tutorials/keras/regression?hl=ko)\n",
    "</p>\n",
    "- 참조사이트 : <br>\n",
    "https://toyourlight.tistory.com/11<Br>\n",
    "https://ko.d2l.ai/chapter_crashcourse/introduction.html<Br>\n",
    "\n",
    "- 머신 러닝을 진행하기 위해서는 다음 4가지가 필요합니다.\n",
    "\n",
    "1. 데이터\n",
    "2. 데이터를 어떻게 변환할지에 대한 모델\n",
    "3. 우리가 얼마나 잘하고 있는지를 측정하는 loss 함수\n",
    "4. loss 함수를 최소화하도록 모델 파라미터를 바꾸는 알고리즘"
   ]
  },
  {
   "cell_type": "code",
   "execution_count": 3,
   "metadata": {},
   "outputs": [],
   "source": [
    "import numpy as np\n",
    "\n",
    "X = np.random.randn(100,2)\n",
    "y = X[:,0] * 70 + X[:,1] * 35 +20\n",
    "y = y.reshape(100,1)\n",
    "\n",
    "W = np.random.randn(2,1)\n",
    "b = 0"
   ]
  },
  {
   "cell_type": "code",
   "execution_count": 10,
   "metadata": {},
   "outputs": [
    {
     "name": "stdout",
     "output_type": "stream",
     "text": [
      "(100, 2) (100,) (100, 1)\n"
     ]
    }
   ],
   "source": [
    "y_hat = np.dot(X,W) + b\n",
    "print(X.shape, y.shape, y_hat.shape)\n",
    "dW = np.dot(X.T, (y_hat-y))\n",
    "db = np.mean((y_hat-y))\n",
    "W "
   ]
  },
  {
   "cell_type": "code",
   "execution_count": null,
   "metadata": {},
   "outputs": [],
   "source": [
    "x"
   ]
  }
 ],
 "metadata": {
  "kernelspec": {
   "display_name": "deep",
   "language": "python",
   "name": "python3"
  },
  "language_info": {
   "codemirror_mode": {
    "name": "ipython",
    "version": 3
   },
   "file_extension": ".py",
   "mimetype": "text/x-python",
   "name": "python",
   "nbconvert_exporter": "python",
   "pygments_lexer": "ipython3",
   "version": "3.10.10"
  },
  "orig_nbformat": 4
 },
 "nbformat": 4,
 "nbformat_minor": 2
}
