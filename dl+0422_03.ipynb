{
 "cells": [
  {
   "attachments": {},
   "cell_type": "markdown",
   "metadata": {},
   "source": [
    "## predictin which dog or cat?"
   ]
  },
  {
   "cell_type": "code",
   "execution_count": 1,
   "metadata": {},
   "outputs": [],
   "source": [
    "from glob import glob\n",
    "\n",
    "base_dir = './kagglecatsanddogs_5340/PetImages'\n",
    "file_list_dog = glob(base_dir+'/Dog/*.jpg')[:5000]\n",
    "file_list_cat = glob(base_dir+'/Cat/*.jpg')[:5000]"
   ]
  },
  {
   "cell_type": "code",
   "execution_count": 5,
   "metadata": {},
   "outputs": [],
   "source": [
    "import matplotlib.pyplot as plt\n",
    "import cv2 as cv\n",
    "import numpy as np\n",
    "from keras.layers import Conv2D, MaxPooling2D, Dense, Flatten\n",
    "from keras.models import Sequential\n",
    "from keras.utils import to_categorical, pad_sequences\n",
    "from keras.layers import BatchNormalization, Dropout\n",
    "\n",
    "# x1 = plt.imread(file_list_dog[0])\n",
    "# x = cv.resize(x1, (150,150))\n",
    "# plt.imshow(x)"
   ]
  },
  {
   "cell_type": "code",
   "execution_count": 6,
   "metadata": {},
   "outputs": [],
   "source": [
    "file_list = np.concatenate([file_list_dog, file_list_cat], axis=0)\n",
    "# t = plt.imread(file_list[0])\n",
    "# im_rgb = cv.cvtColor(t, cv.COLOR_BGR2RGB)\n",
    "# print(im_rgb.shape)\n",
    "# plt.imshow(im_rgb)\n",
    "\n",
    "X = np.zeros((len(file_list),150,150,3))\n",
    "# Y = np.concatenate([np.zeros(500,1), np.ones(500,1)], axis=0)\n",
    "y = []\n",
    "\n",
    "for i, file in enumerate(file_list):\n",
    "    t = plt.imread(file)\n",
    "    f = cv.cvtColor(t, cv.COLOR_BGR2RGB)\n",
    "    f = cv.resize(f, (150,150))\n",
    "    if 'Cat' in file:\n",
    "        y.append(0)\n",
    "    else:\n",
    "        y.append(1)\n",
    "\n",
    "    # if f.shape[-1] == 4:\n",
    "    #     f = f[:,:,:3]\n",
    "    # elif f.shape[-1] > 4:\n",
    "    #     print(i)\n",
    "\n",
    "    X[i] = f\n",
    "\n",
    "y = np.array(y)\n",
    "# print(y)\n"
   ]
  },
  {
   "cell_type": "code",
   "execution_count": 7,
   "metadata": {},
   "outputs": [
    {
     "name": "stderr",
     "output_type": "stream",
     "text": [
      "2023-04-22 17:39:14.264735: I tensorflow/core/platform/cpu_feature_guard.cc:193] This TensorFlow binary is optimized with oneAPI Deep Neural Network Library (oneDNN) to use the following CPU instructions in performance-critical operations:  SSE4.1 SSE4.2 AVX AVX2 FMA\n",
      "To enable them in other operations, rebuild TensorFlow with the appropriate compiler flags.\n",
      "2023-04-22 17:39:14.314513: I tensorflow/core/common_runtime/process_util.cc:146] Creating new thread pool with default inter op setting: 2. Tune using inter_op_parallelism_threads for best performance.\n"
     ]
    }
   ],
   "source": [
    "# from sklearn.model_selection import train_test_split\n",
    "\n",
    "# X_train, X_test, y_train, y_test = train_test_split(X,y)\n",
    "\n",
    "model = Sequential([\n",
    "    Conv2D(50, (3,3), activation='relu', input_shape=(150,150,3)),\n",
    "    BatchNormalization(),\n",
    "    MaxPooling2D((5,5)),\n",
    "    Conv2D(50, (3,3), activation='relu'),\n",
    "    BatchNormalization(),\n",
    "    MaxPooling2D((7,7)),\n",
    "    Flatten(),\n",
    "    Dense(50, activation='relu'),\n",
    "    BatchNormalization(),\n",
    "    Dense(1, activation='sigmoid')\n",
    "])"
   ]
  },
  {
   "cell_type": "code",
   "execution_count": 48,
   "metadata": {},
   "outputs": [
    {
     "name": "stdout",
     "output_type": "stream",
     "text": [
      "Epoch 1/50\n",
      "8/8 [==============================] - 5s 576ms/step - loss: 0.5358 - accuracy: 0.7760 - val_loss: 1.7278 - val_accuracy: 0.5400\n",
      "Epoch 2/50\n",
      "8/8 [==============================] - 4s 555ms/step - loss: 0.3337 - accuracy: 0.8840 - val_loss: 1.2644 - val_accuracy: 0.6120\n",
      "Epoch 3/50\n",
      "8/8 [==============================] - 4s 530ms/step - loss: 0.2165 - accuracy: 0.9387 - val_loss: 2.8898 - val_accuracy: 0.5160\n",
      "Epoch 4/50\n",
      "8/8 [==============================] - 4s 557ms/step - loss: 0.1217 - accuracy: 0.9893 - val_loss: 1.0656 - val_accuracy: 0.6200\n",
      "Epoch 5/50\n",
      "8/8 [==============================] - 4s 522ms/step - loss: 0.0760 - accuracy: 0.9920 - val_loss: 0.8928 - val_accuracy: 0.6600\n",
      "Epoch 6/50\n",
      "8/8 [==============================] - 5s 581ms/step - loss: 0.0413 - accuracy: 1.0000 - val_loss: 0.8303 - val_accuracy: 0.6400\n",
      "Epoch 7/50\n",
      "8/8 [==============================] - 5s 578ms/step - loss: 0.0267 - accuracy: 0.9987 - val_loss: 0.7855 - val_accuracy: 0.6520\n",
      "Epoch 8/50\n",
      "8/8 [==============================] - 5s 576ms/step - loss: 0.0186 - accuracy: 1.0000 - val_loss: 0.9040 - val_accuracy: 0.6320\n",
      "Epoch 9/50\n",
      "8/8 [==============================] - 5s 563ms/step - loss: 0.0124 - accuracy: 1.0000 - val_loss: 0.9002 - val_accuracy: 0.6400\n",
      "Epoch 10/50\n",
      "8/8 [==============================] - 5s 588ms/step - loss: 0.0086 - accuracy: 1.0000 - val_loss: 0.8455 - val_accuracy: 0.6360\n",
      "Epoch 11/50\n",
      "8/8 [==============================] - 4s 521ms/step - loss: 0.0061 - accuracy: 1.0000 - val_loss: 0.7838 - val_accuracy: 0.6400\n",
      "Epoch 12/50\n",
      "8/8 [==============================] - 4s 564ms/step - loss: 0.0061 - accuracy: 0.9987 - val_loss: 0.8054 - val_accuracy: 0.6600\n",
      "Epoch 13/50\n",
      "8/8 [==============================] - 4s 522ms/step - loss: 0.0051 - accuracy: 1.0000 - val_loss: 0.8182 - val_accuracy: 0.6440\n",
      "Epoch 14/50\n",
      "8/8 [==============================] - 5s 609ms/step - loss: 0.0035 - accuracy: 1.0000 - val_loss: 0.7773 - val_accuracy: 0.6360\n",
      "Epoch 15/50\n",
      "8/8 [==============================] - 5s 580ms/step - loss: 0.0034 - accuracy: 1.0000 - val_loss: 0.7627 - val_accuracy: 0.6400\n",
      "Epoch 16/50\n",
      "8/8 [==============================] - 5s 574ms/step - loss: 0.0026 - accuracy: 1.0000 - val_loss: 0.7626 - val_accuracy: 0.6520\n",
      "Epoch 17/50\n",
      "8/8 [==============================] - 4s 531ms/step - loss: 0.0027 - accuracy: 1.0000 - val_loss: 0.7740 - val_accuracy: 0.6520\n",
      "Epoch 18/50\n",
      "8/8 [==============================] - 4s 549ms/step - loss: 0.0019 - accuracy: 1.0000 - val_loss: 0.7835 - val_accuracy: 0.6560\n",
      "Epoch 19/50\n",
      "8/8 [==============================] - 4s 555ms/step - loss: 0.0018 - accuracy: 1.0000 - val_loss: 0.7885 - val_accuracy: 0.6600\n",
      "Epoch 20/50\n",
      "8/8 [==============================] - 5s 583ms/step - loss: 0.0013 - accuracy: 1.0000 - val_loss: 0.7837 - val_accuracy: 0.6600\n",
      "Epoch 21/50\n",
      "8/8 [==============================] - 5s 607ms/step - loss: 0.0014 - accuracy: 1.0000 - val_loss: 0.7984 - val_accuracy: 0.6560\n",
      "Epoch 22/50\n",
      "8/8 [==============================] - 5s 657ms/step - loss: 0.0015 - accuracy: 1.0000 - val_loss: 0.8066 - val_accuracy: 0.6680\n",
      "Epoch 23/50\n",
      "8/8 [==============================] - 5s 600ms/step - loss: 0.0011 - accuracy: 1.0000 - val_loss: 0.8206 - val_accuracy: 0.6600\n",
      "Epoch 24/50\n",
      "8/8 [==============================] - 5s 604ms/step - loss: 9.8004e-04 - accuracy: 1.0000 - val_loss: 0.8268 - val_accuracy: 0.6680\n",
      "Epoch 25/50\n",
      "8/8 [==============================] - 5s 599ms/step - loss: 7.8790e-04 - accuracy: 1.0000 - val_loss: 0.8339 - val_accuracy: 0.6560\n",
      "Epoch 26/50\n",
      "8/8 [==============================] - 5s 581ms/step - loss: 7.6795e-04 - accuracy: 1.0000 - val_loss: 0.8360 - val_accuracy: 0.6560\n",
      "Epoch 27/50\n",
      "8/8 [==============================] - 5s 625ms/step - loss: 7.5282e-04 - accuracy: 1.0000 - val_loss: 0.8374 - val_accuracy: 0.6480\n",
      "Epoch 28/50\n",
      "8/8 [==============================] - 5s 599ms/step - loss: 7.5657e-04 - accuracy: 1.0000 - val_loss: 0.8430 - val_accuracy: 0.6520\n",
      "Epoch 29/50\n",
      "8/8 [==============================] - 4s 525ms/step - loss: 5.1306e-04 - accuracy: 1.0000 - val_loss: 0.8536 - val_accuracy: 0.6520\n",
      "Epoch 30/50\n",
      "8/8 [==============================] - 5s 576ms/step - loss: 6.9318e-04 - accuracy: 1.0000 - val_loss: 0.8657 - val_accuracy: 0.6520\n",
      "Epoch 31/50\n",
      "8/8 [==============================] - 4s 569ms/step - loss: 4.5155e-04 - accuracy: 1.0000 - val_loss: 0.8716 - val_accuracy: 0.6480\n",
      "Epoch 32/50\n",
      "8/8 [==============================] - 5s 603ms/step - loss: 4.9077e-04 - accuracy: 1.0000 - val_loss: 0.8801 - val_accuracy: 0.6480\n",
      "Epoch 33/50\n",
      "8/8 [==============================] - 5s 578ms/step - loss: 6.9998e-04 - accuracy: 1.0000 - val_loss: 0.8861 - val_accuracy: 0.6480\n",
      "Epoch 34/50\n",
      "8/8 [==============================] - 5s 606ms/step - loss: 4.7471e-04 - accuracy: 1.0000 - val_loss: 0.8935 - val_accuracy: 0.6600\n",
      "Epoch 35/50\n",
      "8/8 [==============================] - 4s 562ms/step - loss: 4.4583e-04 - accuracy: 1.0000 - val_loss: 0.9011 - val_accuracy: 0.6680\n",
      "Epoch 36/50\n",
      "8/8 [==============================] - 5s 605ms/step - loss: 5.6654e-04 - accuracy: 1.0000 - val_loss: 0.9097 - val_accuracy: 0.6640\n",
      "Epoch 37/50\n",
      "8/8 [==============================] - 4s 537ms/step - loss: 4.5952e-04 - accuracy: 1.0000 - val_loss: 0.9199 - val_accuracy: 0.6640\n",
      "Epoch 38/50\n",
      "8/8 [==============================] - 5s 578ms/step - loss: 5.7180e-04 - accuracy: 1.0000 - val_loss: 0.9335 - val_accuracy: 0.6640\n",
      "Epoch 39/50\n",
      "8/8 [==============================] - 5s 585ms/step - loss: 3.2095e-04 - accuracy: 1.0000 - val_loss: 0.9484 - val_accuracy: 0.6640\n",
      "Epoch 40/50\n",
      "8/8 [==============================] - 5s 589ms/step - loss: 3.2727e-04 - accuracy: 1.0000 - val_loss: 0.9638 - val_accuracy: 0.6640\n",
      "Epoch 41/50\n",
      "8/8 [==============================] - 5s 564ms/step - loss: 3.0111e-04 - accuracy: 1.0000 - val_loss: 0.9770 - val_accuracy: 0.6640\n",
      "Epoch 42/50\n",
      "8/8 [==============================] - 5s 582ms/step - loss: 2.6412e-04 - accuracy: 1.0000 - val_loss: 0.9885 - val_accuracy: 0.6680\n",
      "Epoch 43/50\n",
      "8/8 [==============================] - 5s 577ms/step - loss: 5.4546e-04 - accuracy: 1.0000 - val_loss: 0.9977 - val_accuracy: 0.6720\n",
      "Epoch 44/50\n",
      "8/8 [==============================] - 5s 594ms/step - loss: 3.4957e-04 - accuracy: 1.0000 - val_loss: 1.0090 - val_accuracy: 0.6720\n",
      "Epoch 45/50\n",
      "8/8 [==============================] - 5s 596ms/step - loss: 2.4884e-04 - accuracy: 1.0000 - val_loss: 1.0217 - val_accuracy: 0.6720\n",
      "Epoch 46/50\n",
      "8/8 [==============================] - 5s 618ms/step - loss: 4.0726e-04 - accuracy: 1.0000 - val_loss: 1.0278 - val_accuracy: 0.6720\n",
      "Epoch 47/50\n",
      "8/8 [==============================] - 5s 639ms/step - loss: 3.3794e-04 - accuracy: 1.0000 - val_loss: 1.0307 - val_accuracy: 0.6720\n",
      "Epoch 48/50\n",
      "8/8 [==============================] - 5s 546ms/step - loss: 2.6681e-04 - accuracy: 1.0000 - val_loss: 1.0392 - val_accuracy: 0.6760\n",
      "Epoch 49/50\n",
      "8/8 [==============================] - 4s 545ms/step - loss: 3.4325e-04 - accuracy: 1.0000 - val_loss: 1.0530 - val_accuracy: 0.6760\n",
      "Epoch 50/50\n",
      "8/8 [==============================] - 5s 567ms/step - loss: 2.8038e-04 - accuracy: 1.0000 - val_loss: 1.0633 - val_accuracy: 0.6720\n"
     ]
    },
    {
     "data": {
      "text/plain": [
       "<keras.callbacks.History at 0x7fd01e8225c0>"
      ]
     },
     "execution_count": 48,
     "metadata": {},
     "output_type": "execute_result"
    }
   ],
   "source": [
    "opt = 'adam'\n",
    "loss = 'binary_crossentropy'\n",
    "metrics = ['accuracy']\n",
    "model.compile(optimizer=opt,\n",
    "              loss=loss,\n",
    "              metrics=metrics)\n",
    "\n",
    "index = np.random.choice(np.arange(len(X)), len(x), replace=False)\n",
    "tr_ind = index[:int(index.size*0.8)]\n",
    "te_idd = index[int(index.size*0.8):]\n",
    "\n",
    "X_train = X[tr_ind]\n",
    "y_train = y[tr_ind]\n",
    "\n",
    "model.fit(X_train, y_train, epochs=50, batch_size=100, validation_data=(X_test, y_test))"
   ]
  },
  {
   "cell_type": "code",
   "execution_count": 49,
   "metadata": {},
   "outputs": [
    {
     "ename": "ValueError",
     "evalue": "in user code:\n\n    File \"/home/nextchoice/anaconda3/envs/deep/lib/python3.10/site-packages/keras/engine/training.py\", line 2137, in predict_function  *\n        return step_function(self, iterator)\n    File \"/home/nextchoice/anaconda3/envs/deep/lib/python3.10/site-packages/keras/engine/training.py\", line 2123, in step_function  **\n        outputs = model.distribute_strategy.run(run_step, args=(data,))\n    File \"/home/nextchoice/anaconda3/envs/deep/lib/python3.10/site-packages/keras/engine/training.py\", line 2111, in run_step  **\n        outputs = model.predict_step(data)\n    File \"/home/nextchoice/anaconda3/envs/deep/lib/python3.10/site-packages/keras/engine/training.py\", line 2079, in predict_step\n        return self(x, training=False)\n    File \"/home/nextchoice/anaconda3/envs/deep/lib/python3.10/site-packages/keras/utils/traceback_utils.py\", line 70, in error_handler\n        raise e.with_traceback(filtered_tb) from None\n    File \"/home/nextchoice/anaconda3/envs/deep/lib/python3.10/site-packages/keras/engine/input_spec.py\", line 295, in assert_input_compatibility\n        raise ValueError(\n\n    ValueError: Input 0 of layer \"sequential\" is incompatible with the layer: expected shape=(None, 150, 150, 3), found shape=(None, 150, 3)\n",
     "output_type": "error",
     "traceback": [
      "\u001b[0;31m---------------------------------------------------------------------------\u001b[0m",
      "\u001b[0;31mValueError\u001b[0m                                Traceback (most recent call last)",
      "Cell \u001b[0;32mIn[49], line 1\u001b[0m\n\u001b[0;32m----> 1\u001b[0m model\u001b[39m.\u001b[39;49mpredict(X_test[\u001b[39m0\u001b[39;49m])\n",
      "File \u001b[0;32m~/anaconda3/envs/deep/lib/python3.10/site-packages/keras/utils/traceback_utils.py:70\u001b[0m, in \u001b[0;36mfilter_traceback.<locals>.error_handler\u001b[0;34m(*args, **kwargs)\u001b[0m\n\u001b[1;32m     67\u001b[0m     filtered_tb \u001b[39m=\u001b[39m _process_traceback_frames(e\u001b[39m.\u001b[39m__traceback__)\n\u001b[1;32m     68\u001b[0m     \u001b[39m# To get the full stack trace, call:\u001b[39;00m\n\u001b[1;32m     69\u001b[0m     \u001b[39m# `tf.debugging.disable_traceback_filtering()`\u001b[39;00m\n\u001b[0;32m---> 70\u001b[0m     \u001b[39mraise\u001b[39;00m e\u001b[39m.\u001b[39mwith_traceback(filtered_tb) \u001b[39mfrom\u001b[39;00m \u001b[39mNone\u001b[39m\n\u001b[1;32m     71\u001b[0m \u001b[39mfinally\u001b[39;00m:\n\u001b[1;32m     72\u001b[0m     \u001b[39mdel\u001b[39;00m filtered_tb\n",
      "File \u001b[0;32m/tmp/__autograph_generated_file5ldoeseb.py:15\u001b[0m, in \u001b[0;36mouter_factory.<locals>.inner_factory.<locals>.tf__predict_function\u001b[0;34m(iterator)\u001b[0m\n\u001b[1;32m     13\u001b[0m \u001b[39mtry\u001b[39;00m:\n\u001b[1;32m     14\u001b[0m     do_return \u001b[39m=\u001b[39m \u001b[39mTrue\u001b[39;00m\n\u001b[0;32m---> 15\u001b[0m     retval_ \u001b[39m=\u001b[39m ag__\u001b[39m.\u001b[39mconverted_call(ag__\u001b[39m.\u001b[39mld(step_function), (ag__\u001b[39m.\u001b[39mld(\u001b[39mself\u001b[39m), ag__\u001b[39m.\u001b[39mld(iterator)), \u001b[39mNone\u001b[39;00m, fscope)\n\u001b[1;32m     16\u001b[0m \u001b[39mexcept\u001b[39;00m:\n\u001b[1;32m     17\u001b[0m     do_return \u001b[39m=\u001b[39m \u001b[39mFalse\u001b[39;00m\n",
      "\u001b[0;31mValueError\u001b[0m: in user code:\n\n    File \"/home/nextchoice/anaconda3/envs/deep/lib/python3.10/site-packages/keras/engine/training.py\", line 2137, in predict_function  *\n        return step_function(self, iterator)\n    File \"/home/nextchoice/anaconda3/envs/deep/lib/python3.10/site-packages/keras/engine/training.py\", line 2123, in step_function  **\n        outputs = model.distribute_strategy.run(run_step, args=(data,))\n    File \"/home/nextchoice/anaconda3/envs/deep/lib/python3.10/site-packages/keras/engine/training.py\", line 2111, in run_step  **\n        outputs = model.predict_step(data)\n    File \"/home/nextchoice/anaconda3/envs/deep/lib/python3.10/site-packages/keras/engine/training.py\", line 2079, in predict_step\n        return self(x, training=False)\n    File \"/home/nextchoice/anaconda3/envs/deep/lib/python3.10/site-packages/keras/utils/traceback_utils.py\", line 70, in error_handler\n        raise e.with_traceback(filtered_tb) from None\n    File \"/home/nextchoice/anaconda3/envs/deep/lib/python3.10/site-packages/keras/engine/input_spec.py\", line 295, in assert_input_compatibility\n        raise ValueError(\n\n    ValueError: Input 0 of layer \"sequential\" is incompatible with the layer: expected shape=(None, 150, 150, 3), found shape=(None, 150, 3)\n"
     ]
    }
   ],
   "source": [
    "model.predict(X_test[0].as)"
   ]
  }
 ],
 "metadata": {
  "kernelspec": {
   "display_name": "deep",
   "language": "python",
   "name": "python3"
  },
  "language_info": {
   "codemirror_mode": {
    "name": "ipython",
    "version": 3
   },
   "file_extension": ".py",
   "mimetype": "text/x-python",
   "name": "python",
   "nbconvert_exporter": "python",
   "pygments_lexer": "ipython3",
   "version": "3.10.10"
  },
  "orig_nbformat": 4
 },
 "nbformat": 4,
 "nbformat_minor": 2
}
