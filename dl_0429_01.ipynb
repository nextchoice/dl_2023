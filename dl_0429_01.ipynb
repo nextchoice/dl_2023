{
 "cells": [
  {
   "attachments": {},
   "cell_type": "markdown",
   "metadata": {},
   "source": [
    "### CV 딥러닝\n",
    "\n",
    "**4월 29일**"
   ]
  },
  {
   "cell_type": "code",
   "execution_count": 1,
   "metadata": {},
   "outputs": [
    {
     "name": "stderr",
     "output_type": "stream",
     "text": [
      "2023-04-29 10:24:48.763521: I tensorflow/core/platform/cpu_feature_guard.cc:193] This TensorFlow binary is optimized with oneAPI Deep Neural Network Library (oneDNN) to use the following CPU instructions in performance-critical operations:  SSE4.1 SSE4.2 AVX AVX2 FMA\n",
      "To enable them in other operations, rebuild TensorFlow with the appropriate compiler flags.\n"
     ]
    }
   ],
   "source": [
    "import matplotlib.pyplot as plt\n",
    "import cv2 as cv\n",
    "import numpy as np\n",
    "from keras.layers import Conv2D, MaxPooling2D, Dense, Flatten\n",
    "from keras.models import Sequential\n",
    "from keras.utils import to_categorical, pad_sequences\n",
    "from keras.layers import BatchNormalization, Dropout\n",
    "\n",
    "from glob import glob\n",
    "\n"
   ]
  },
  {
   "cell_type": "code",
   "execution_count": 2,
   "metadata": {},
   "outputs": [],
   "source": [
    "base_dir = './kagglecatsanddogs_5340/PetImages'\n",
    "file_list_dog = glob(base_dir+'/Dog/*.jpg')[:5000]\n",
    "file_list_cat = glob(base_dir+'/Cat/*.jpg')[:5000]"
   ]
  },
  {
   "cell_type": "code",
   "execution_count": 3,
   "metadata": {},
   "outputs": [
    {
     "name": "stderr",
     "output_type": "stream",
     "text": [
      "/home/nextchoice/anaconda3/envs/deep/lib/python3.10/site-packages/PIL/TiffImagePlugin.py:858: UserWarning: Truncated File Read\n",
      "  warnings.warn(str(msg))\n"
     ]
    }
   ],
   "source": [
    "file_list = np.concatenate([file_list_dog, file_list_cat], axis=0)\n",
    "# t = plt.imread(file_list[0])\n",
    "# im_rgb = cv.cvtColor(t, cv.COLOR_BGR2RGB)\n",
    "# print(im_rgb.shape)\n",
    "# plt.imshow(im_rgb)\n",
    "\n",
    "X = np.zeros((len(file_list),150,150,3))\n",
    "# Y = np.concatenate([np.zeros(500,1), np.ones(500,1)], axis=0)\n",
    "y = []\n",
    "# resize 시 except 발생하는 file list 정리하기\n",
    "# \n",
    "# invalid_index = []\n",
    "# valid_index = []\n",
    "\n",
    "# for i, file in enumerate(file_list):\n",
    "#     try:\n",
    "#         dt = plt.imread(file)\n",
    "#         dt = cv.resize(file, (150,150))\n",
    "#         valid_index.append(i)\n",
    "#     except:\n",
    "#         invalid_index.append(i)\n",
    "\n",
    "# print(invalid_index)\n",
    "\n",
    "# file_list = file_list[valid_index]\n",
    "\n",
    "# 방법 2: data가 없는 파일 제거함.\n",
    "#         --> 제거 후에 나머지 이미지 파일은 channel 통일시킴\n",
    "for i, file in enumerate(file_list):\n",
    "    t = plt.imread(file)\n",
    "    f = cv.cvtColor(t, cv.COLOR_BGR2RGB)\n",
    "    f = cv.resize(f, (150,150))\n",
    "    if 'Cat' in file:\n",
    "        y.append(0)\n",
    "    else:\n",
    "        y.append(1)\n",
    "\n",
    "    # if f.shape[-1] == 4:\n",
    "    #     f = f[:,:,:3]\n",
    "    # elif f.shape[-1] > 4:\n",
    "    #     print(i)\n",
    "\n",
    "    X[i] = f\n",
    "\n",
    "y = np.array(y)\n",
    "# print(y)"
   ]
  },
  {
   "cell_type": "code",
   "execution_count": 4,
   "metadata": {},
   "outputs": [
    {
     "name": "stdout",
     "output_type": "stream",
     "text": [
      "Model: \"sequential\"\n",
      "_________________________________________________________________\n",
      " Layer (type)                Output Shape              Param #   \n",
      "=================================================================\n",
      " conv2d (Conv2D)             (None, 148, 148, 50)      1400      \n",
      "                                                                 \n",
      " batch_normalization (BatchN  (None, 148, 148, 50)     200       \n",
      " ormalization)                                                   \n",
      "                                                                 \n",
      " max_pooling2d (MaxPooling2D  (None, 29, 29, 50)       0         \n",
      " )                                                               \n",
      "                                                                 \n",
      " conv2d_1 (Conv2D)           (None, 27, 27, 50)        22550     \n",
      "                                                                 \n",
      " batch_normalization_1 (Batc  (None, 27, 27, 50)       200       \n",
      " hNormalization)                                                 \n",
      "                                                                 \n",
      " max_pooling2d_1 (MaxPooling  (None, 3, 3, 50)         0         \n",
      " 2D)                                                             \n",
      "                                                                 \n",
      " flatten (Flatten)           (None, 450)               0         \n",
      "                                                                 \n",
      " dense (Dense)               (None, 50)                22550     \n",
      "                                                                 \n",
      " batch_normalization_2 (Batc  (None, 50)               200       \n",
      " hNormalization)                                                 \n",
      "                                                                 \n",
      " dense_1 (Dense)             (None, 1)                 51        \n",
      "                                                                 \n",
      "=================================================================\n",
      "Total params: 47,151\n",
      "Trainable params: 46,851\n",
      "Non-trainable params: 300\n",
      "_________________________________________________________________\n"
     ]
    },
    {
     "name": "stderr",
     "output_type": "stream",
     "text": [
      "2023-04-29 10:25:10.077711: I tensorflow/core/platform/cpu_feature_guard.cc:193] This TensorFlow binary is optimized with oneAPI Deep Neural Network Library (oneDNN) to use the following CPU instructions in performance-critical operations:  SSE4.1 SSE4.2 AVX AVX2 FMA\n",
      "To enable them in other operations, rebuild TensorFlow with the appropriate compiler flags.\n",
      "2023-04-29 10:25:10.079688: I tensorflow/core/common_runtime/process_util.cc:146] Creating new thread pool with default inter op setting: 2. Tune using inter_op_parallelism_threads for best performance.\n"
     ]
    }
   ],
   "source": [
    "# modeling\n",
    "model = Sequential([\n",
    "    Conv2D(50, (3,3), activation='relu', input_shape=(150,150,3)),\n",
    "    BatchNormalization(),\n",
    "    MaxPooling2D((5,5)),\n",
    "    Conv2D(50, (3,3), activation='relu'),\n",
    "    BatchNormalization(),\n",
    "    MaxPooling2D((7,7)),\n",
    "    Flatten(),\n",
    "    Dense(50, activation='relu'),\n",
    "    BatchNormalization(),\n",
    "    Dense(1, activation='sigmoid')\n",
    "])\n",
    "\n",
    "model.summary()"
   ]
  },
  {
   "cell_type": "code",
   "execution_count": 5,
   "metadata": {},
   "outputs": [
    {
     "name": "stdout",
     "output_type": "stream",
     "text": [
      "Epoch 1/10\n"
     ]
    },
    {
     "ename": "",
     "evalue": "",
     "output_type": "error",
     "traceback": [
      "\u001b[1;31mCanceled future for execute_request message before replies were done"
     ]
    },
    {
     "ename": "",
     "evalue": "",
     "output_type": "error",
     "traceback": [
      "\u001b[1;31mThe Kernel crashed while executing code in the the current cell or a previous cell. Please review the code in the cell(s) to identify a possible cause of the failure. Click <a href='https://aka.ms/vscodeJupyterKernelCrash'>here</a> for more info. View Jupyter <a href='command:jupyter.viewOutput'>log</a> for further details."
     ]
    }
   ],
   "source": [
    "opt = 'adam'\n",
    "loss = 'binary_crossentropy'\n",
    "metrics = ['accuracy']\n",
    "model.compile(optimizer=opt,\n",
    "              loss=loss,\n",
    "              metrics=metrics)\n",
    "# index = np.random.choice(np.arrange(file_list), file_list.size, replace=False)\n",
    "index = np.random.choice(np.arange(len(X)), len(X), replace=False)\n",
    "tr_ind = index[:int(index.size*0.8)]\n",
    "te_idd = index[int(index.size*0.8):]\n",
    "\n",
    "X_train = X[tr_ind]\n",
    "y_train = y[tr_ind]\n",
    "\n",
    "X_test = X[te_idd]\n",
    "y_test = y[te_idd]\n",
    "\n",
    "# model.fit(X_train, y_train, epochs=10, batch_size=1000, validation_data=(X_test, y_test))\n",
    "model.fit(X_train, y_train, epochs=10, batch_size=1000)"
   ]
  },
  {
   "cell_type": "code",
   "execution_count": null,
   "metadata": {},
   "outputs": [
    {
     "name": "stdout",
     "output_type": "stream",
     "text": [
      "(150, 150, 3)\n"
     ]
    }
   ],
   "source": [
    "# 모델2\n",
    "# input_shape = X_train.shape[1:]\n",
    "# print(input_shape)\n",
    "\n",
    "# model = Sequential([\n",
    "#     Conv2D(32, (3,3), activation='relu', input_shape=(150,150,3)),\n",
    "#     MaxPooling2D((2,2)),\n",
    "#     Conv2D(64, (3,3), activation='relu'),\n",
    "#     Conv2D(128, (5,5), activation='relu'),\n",
    "#     MaxPooling2D((5,5)),\n",
    "#     Flatten(),\n",
    "#     Dense(128, activation='relu'),\n",
    "#     Dense(1, activation='sigmoid')\n",
    "# ])\n",
    "\n",
    "# opt = 'adam'\n",
    "# loss = 'binary_crossentropy'\n",
    "# metrics = ['accuracy']\n",
    "# model.compile(optimizer=opt,\n",
    "#               loss=loss,\n",
    "#               metrics=metrics)\n",
    "\n",
    "# model.fit(X_train, y_train, epochs=10, batch_size=128)"
   ]
  },
  {
   "cell_type": "code",
   "execution_count": null,
   "metadata": {},
   "outputs": [],
   "source": [
    "# 테스트 정확도를 출력합니다.\n",
    "print(\"\\n Test Accuracy: %.4f\" % (model.evaluate(X_test, y_test)[1]))"
   ]
  }
 ],
 "metadata": {
  "kernelspec": {
   "display_name": "deep",
   "language": "python",
   "name": "python3"
  },
  "language_info": {
   "codemirror_mode": {
    "name": "ipython",
    "version": 3
   },
   "file_extension": ".py",
   "mimetype": "text/x-python",
   "name": "python",
   "nbconvert_exporter": "python",
   "pygments_lexer": "ipython3",
   "version": "3.10.10"
  },
  "orig_nbformat": 4
 },
 "nbformat": 4,
 "nbformat_minor": 2
}
