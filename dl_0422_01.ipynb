{
 "cells": [
  {
   "attachments": {},
   "cell_type": "markdown",
   "metadata": {},
   "source": [
    "### 4월 22일 강의 01\n",
    "\n",
    "$ \\alpha = \\beta $\n",
    "\n",
    "> 들여쓰기  줄바꿈\n",
    "\n",
    ">> 들여쓰기\n",
    "\n",
    "tensorflow\n",
    ">Network -> compile -> fit\n"
   ]
  },
  {
   "cell_type": "code",
   "execution_count": 25,
   "metadata": {},
   "outputs": [],
   "source": [
    "import tensorflow as tf\n",
    "from tensorflow.keras.models import Sequential, Model\n",
    "from tensorflow.keras.layers import Dense, Flatten, Input\n",
    "\n",
    "import numpy as np\n",
    "\n"
   ]
  },
  {
   "cell_type": "code",
   "execution_count": 12,
   "metadata": {},
   "outputs": [
    {
     "name": "stdout",
     "output_type": "stream",
     "text": [
      "Model: \"sequential_5\"\n",
      "_________________________________________________________________\n",
      " Layer (type)                Output Shape              Param #   \n",
      "=================================================================\n",
      " dense_4 (Dense)             (None, 100)               300       \n",
      "                                                                 \n",
      " dense_5 (Dense)             (None, 100)               10100     \n",
      "                                                                 \n",
      " dense_6 (Dense)             (None, 10)                1010      \n",
      "                                                                 \n",
      "=================================================================\n",
      "Total params: 11,410\n",
      "Trainable params: 11,410\n",
      "Non-trainable params: 0\n",
      "_________________________________________________________________\n"
     ]
    }
   ],
   "source": [
    "model = Sequential()\n",
    "model.add(Dense(100, activation='relu', input_shape=(2,)))\n",
    "model.add(Dense(100, activation='sigmoid'))\n",
    "model.add(Dense(10, activation='linear'))\n",
    "\n",
    "model.summary()"
   ]
  },
  {
   "cell_type": "code",
   "execution_count": 15,
   "metadata": {},
   "outputs": [
    {
     "name": "stdout",
     "output_type": "stream",
     "text": [
      "1/1 [==============================] - 0s 20ms/step\n"
     ]
    },
    {
     "data": {
      "text/plain": [
       "array([[-0.66549027,  0.07036547, -0.48954317,  0.4111393 ,  0.07007486,\n",
       "        -0.8038564 , -0.16868831,  0.3114983 ,  0.8534217 ,  0.0143221 ],\n",
       "       [-0.6652695 ,  0.07332818, -0.4850232 ,  0.4081615 ,  0.07139039,\n",
       "        -0.8022995 , -0.1927431 ,  0.3598176 ,  0.8599129 ,  0.01257676],\n",
       "       [-0.6687134 ,  0.06815453, -0.4894147 ,  0.40456864,  0.06660163,\n",
       "        -0.8038722 , -0.16509195,  0.30162227,  0.8516815 ,  0.01732473]],\n",
       "      dtype=float32)"
      ]
     },
     "execution_count": 15,
     "metadata": {},
     "output_type": "execute_result"
    }
   ],
   "source": [
    "model.predict(np.random.randn(3,2))"
   ]
  },
  {
   "cell_type": "code",
   "execution_count": 18,
   "metadata": {},
   "outputs": [
    {
     "name": "stdout",
     "output_type": "stream",
     "text": [
      "Model: \"sequential_6\"\n",
      "_________________________________________________________________\n",
      " Layer (type)                Output Shape              Param #   \n",
      "=================================================================\n",
      " dense_11 (Dense)            (None, 100)               300       \n",
      "                                                                 \n",
      " dense_12 (Dense)            (None, 50)                5050      \n",
      "                                                                 \n",
      " dense_13 (Dense)            (None, 10)                510       \n",
      "                                                                 \n",
      "=================================================================\n",
      "Total params: 5,860\n",
      "Trainable params: 5,860\n",
      "Non-trainable params: 0\n",
      "_________________________________________________________________\n"
     ]
    }
   ],
   "source": [
    "layer1 = Dense(100, activation='relu', input_shape=(2,))\n",
    "layer2 = Dense(50, activation='relu')\n",
    "layer3 = Dense(10, activation='softmax')\n",
    "\n",
    "model = Sequential()\n",
    "model.add(layer1)\n",
    "model.add(layer2)\n",
    "model.add(layer3)\n",
    "\n",
    "model.summary()"
   ]
  },
  {
   "cell_type": "code",
   "execution_count": 24,
   "metadata": {},
   "outputs": [
    {
     "name": "stdout",
     "output_type": "stream",
     "text": [
      "Model: \"sequential_9\"\n",
      "_________________________________________________________________\n",
      " Layer (type)                Output Shape              Param #   \n",
      "=================================================================\n",
      " dense_11 (Dense)            (None, 100)               300       \n",
      "                                                                 \n",
      " dense_12 (Dense)            (None, 50)                5050      \n",
      "                                                                 \n",
      " dense_13 (Dense)            (None, 10)                510       \n",
      "                                                                 \n",
      "=================================================================\n",
      "Total params: 5,860\n",
      "Trainable params: 5,860\n",
      "Non-trainable params: 0\n",
      "_________________________________________________________________\n"
     ]
    }
   ],
   "source": [
    "model = Sequential([\n",
    "    layer1,\n",
    "    layer2,\n",
    "    layer3\n",
    "])\n",
    "\n",
    "model.summary()"
   ]
  },
  {
   "cell_type": "code",
   "execution_count": 27,
   "metadata": {},
   "outputs": [
    {
     "name": "stdout",
     "output_type": "stream",
     "text": [
      "Model: \"model\"\n",
      "_________________________________________________________________\n",
      " Layer (type)                Output Shape              Param #   \n",
      "=================================================================\n",
      " input_1 (InputLayer)        [(None, 2)]               0         \n",
      "                                                                 \n",
      " dense_16 (Dense)            (None, 100)               300       \n",
      "                                                                 \n",
      " dense_17 (Dense)            (None, 50)                5050      \n",
      "                                                                 \n",
      " dense_18 (Dense)            (None, 10)                510       \n",
      "                                                                 \n",
      "=================================================================\n",
      "Total params: 5,860\n",
      "Trainable params: 5,860\n",
      "Non-trainable params: 0\n",
      "_________________________________________________________________\n"
     ]
    }
   ],
   "source": [
    "input_ = Dense(100,activation='relu')\n",
    "input_ = Input(shape=(2,))\n",
    "layer1 = Dense(100, activation='relu')\n",
    "layer2 = Dense(50, activation='relu')\n",
    "layer3 = Dense(10, activation='relu')\n",
    "\n",
    "x = layer1(input_)\n",
    "x = layer2(x)\n",
    "x = layer3(x)\n",
    "\n",
    "model = Model(inputs=[input_], outputs=[x])\n",
    "model.summary()\n"
   ]
  },
  {
   "cell_type": "code",
   "execution_count": 39,
   "metadata": {},
   "outputs": [
    {
     "data": {
      "text/plain": [
       "((60000, 28, 28), (60000,))"
      ]
     },
     "execution_count": 39,
     "metadata": {},
     "output_type": "execute_result"
    }
   ],
   "source": [
    "from tensorflow.keras.datasets import mnist\n",
    "from tensorflow.keras.utils import to_categorical\n",
    "\n",
    "import matplotlib.pyplot as plt\n",
    "\n",
    "\n",
    "(X_train, y_train), (X_test, y_test) =mnist.load_data()\n",
    "X_train.shape , y_train.shape"
   ]
  },
  {
   "cell_type": "code",
   "execution_count": 40,
   "metadata": {},
   "outputs": [
    {
     "data": {
      "image/png": "[encoded data removed]",
      "text/plain": [
       "<Figure size 640x480 with 2 Axes>"
      ]
     },
     "metadata": {},
     "output_type": "display_data"
    }
   ],
   "source": [
    "plt.figure()\n",
    "plt.imshow(X_train[0])\n",
    "plt.colorbar()\n",
    "plt.grid(False)\n",
    "plt.show()"
   ]
  },
  {
   "cell_type": "code",
   "execution_count": 41,
   "metadata": {},
   "outputs": [
    {
     "data": {
      "text/plain": [
       "array([0., 0., 0., 0., 0., 1., 0., 0., 0., 0.], dtype=float32)"
      ]
     },
     "execution_count": 41,
     "metadata": {},
     "output_type": "execute_result"
    }
   ],
   "source": [
    "y_train = to_categorical(y_train)\n",
    "y_train[0]"
   ]
  },
  {
   "cell_type": "code",
   "execution_count": 50,
   "metadata": {},
   "outputs": [
    {
     "name": "stdout",
     "output_type": "stream",
     "text": [
      "Model: \"sequential_12\"\n",
      "_________________________________________________________________\n",
      " Layer (type)                Output Shape              Param #   \n",
      "=================================================================\n",
      " dense_26 (Dense)            (None, 100)               78500     \n",
      "                                                                 \n",
      " dense_27 (Dense)            (None, 50)                5050      \n",
      "                                                                 \n",
      " dense_28 (Dense)            (None, 10)                510       \n",
      "                                                                 \n",
      "=================================================================\n",
      "Total params: 84,060\n",
      "Trainable params: 84,060\n",
      "Non-trainable params: 0\n",
      "_________________________________________________________________\n"
     ]
    }
   ],
   "source": [
    "model = Sequential([\n",
    "    Dense(100, activation='relu', input_shape=(X_train.shape[1]*X_train.shape[2],)),\n",
    "    Dense(50, activation='relu'),\n",
    "    Dense(10, activation='softmax')\n",
    "])\n",
    "\n",
    "model.summary()"
   ]
  },
  {
   "cell_type": "code",
   "execution_count": 53,
   "metadata": {},
   "outputs": [
    {
     "name": "stdout",
     "output_type": "stream",
     "text": [
      "1/1 [==============================] - 0s 11ms/step\n"
     ]
    },
    {
     "data": {
      "text/plain": [
       "7"
      ]
     },
     "execution_count": 53,
     "metadata": {},
     "output_type": "execute_result"
    }
   ],
   "source": [
    "X_0 = X_train[0].reshape(1, 28*28)\n",
    "model.predict(X_0)"
   ]
  },
  {
   "cell_type": "code",
   "execution_count": 54,
   "metadata": {},
   "outputs": [
    {
     "name": "stdout",
     "output_type": "stream",
     "text": [
      "1/1 [==============================] - 0s 32ms/step\n"
     ]
    },
    {
     "name": "stderr",
     "output_type": "stream",
     "text": [
      "/tmp/ipykernel_8523/2077768411.py:1: RuntimeWarning: divide by zero encountered in log\n",
      "  np.nansum(-y_train[[0]] * np.log(model.predict(X_0)))\n",
      "/tmp/ipykernel_8523/2077768411.py:1: RuntimeWarning: invalid value encountered in multiply\n",
      "  np.nansum(-y_train[[0]] * np.log(model.predict(X_0)))\n"
     ]
    },
    {
     "data": {
      "text/plain": [
       "52.39627"
      ]
     },
     "execution_count": 54,
     "metadata": {},
     "output_type": "execute_result"
    }
   ],
   "source": [
    "np.nansum(-y_train[[0]] * np.log(model.predict(X_0)))"
   ]
  },
  {
   "cell_type": "code",
   "execution_count": 61,
   "metadata": {},
   "outputs": [
    {
     "data": {
      "text/plain": [
       "array([ -81.332275 ,  197.56544  ,   29.275593 ,   28.592314 ,\n",
       "        -57.950108 ,   -1.3138216,  -21.680984 ,   95.36957  ,\n",
       "        -97.49809  ,  -94.97157  ,  194.0015   ,   51.050453 ,\n",
       "       -119.18136  ,   31.420944 ,   23.250895 , -127.39055  ,\n",
       "         54.310844 ,   35.656567 ,   85.985725 ,  -83.79299  ,\n",
       "        -73.24609  ,  158.09354  ,   42.520203 ,  -31.904665 ,\n",
       "         88.715775 ,  205.91165  , -249.70761  ,   49.3846   ,\n",
       "        -53.37856  ,   -6.1255465,  -44.63754  ,  418.62082  ,\n",
       "        -52.816032 ,  -61.804672 ,  110.78518  ,   -2.496747 ,\n",
       "       -121.99622  ,  -56.25107  ,   37.760372 ,  -20.459875 ,\n",
       "       -317.99942  , -133.57253  , -149.11107  ,  -29.434649 ,\n",
       "       -158.59225  ,  148.66635  ,   23.58783  , -109.63659  ,\n",
       "         50.398117 ,   45.291805 ,   33.599297 ,   77.924484 ,\n",
       "         69.6947   , -212.24632  , -132.33688  ,  183.32875  ,\n",
       "       -176.63724  ,  -71.44214  , -151.69867  ,  -64.21558  ,\n",
       "         53.202435 ,   -5.720846 , -183.97256  ,  206.49063  ,\n",
       "        280.72437  ,  188.20633  ,   38.59756  ,  118.200935 ,\n",
       "        -11.091665 ,  -35.273205 , -184.15169  ,   74.00741  ,\n",
       "         59.21046  , -147.12305  ,  -66.27792  ,  143.54558  ,\n",
       "       -198.18279  ,   75.110115 ,  -75.59624  ,  117.94836  ,\n",
       "        -74.878914 ,    3.5139394,  163.39427  ,   60.934086 ,\n",
       "        -42.50489  ,   -4.05319  , -103.659805 ,  -96.02152  ,\n",
       "         29.73519  , -200.97115  ,   83.4132   ,  -83.138596 ,\n",
       "        -58.4345   ,    4.0210204,  -44.01314  , -150.87128  ,\n",
       "        -60.6821   , -146.78995  ,  -84.729904 ,  -89.87395  ],\n",
       "      dtype=float32)"
      ]
     },
     "execution_count": 61,
     "metadata": {},
     "output_type": "execute_result"
    }
   ],
   "source": [
    "np.dot(X_train.reshape(-1,28*28)[0],  model.layers[0].get_weights()[0])"
   ]
  },
  {
   "cell_type": "code",
   "execution_count": 64,
   "metadata": {},
   "outputs": [
    {
     "name": "stdout",
     "output_type": "stream",
     "text": [
      "Epoch 1/10\n",
      "60/60 [==============================] - 1s 11ms/step - loss: 71366168.0000 - accuracy: 0.1112\n",
      "Epoch 2/10\n",
      "60/60 [==============================] - 1s 17ms/step - loss: 2.4562 - accuracy: 0.1124\n",
      "Epoch 3/10\n",
      "60/60 [==============================] - 1s 15ms/step - loss: 2.3021 - accuracy: 0.1124\n",
      "Epoch 4/10\n",
      "60/60 [==============================] - 1s 25ms/step - loss: 2.3020 - accuracy: 0.1124\n",
      "Epoch 5/10\n",
      "60/60 [==============================] - 1s 15ms/step - loss: 2.3019 - accuracy: 0.1124\n",
      "Epoch 6/10\n",
      "60/60 [==============================] - 1s 18ms/step - loss: 2.3018 - accuracy: 0.1124\n",
      "Epoch 7/10\n",
      "60/60 [==============================] - 1s 17ms/step - loss: 2.3017 - accuracy: 0.1124\n",
      "Epoch 8/10\n",
      "60/60 [==============================] - 2s 25ms/step - loss: 2.3017 - accuracy: 0.1124\n",
      "Epoch 9/10\n",
      "60/60 [==============================] - 1s 22ms/step - loss: 2.3016 - accuracy: 0.1124\n",
      "Epoch 10/10\n",
      "60/60 [==============================] - 1s 18ms/step - loss: 2.3016 - accuracy: 0.1124\n"
     ]
    },
    {
     "data": {
      "text/plain": [
       "<keras.callbacks.History at 0x7f9db7f2e5f0>"
      ]
     },
     "execution_count": 64,
     "metadata": {},
     "output_type": "execute_result"
    }
   ],
   "source": [
    "from tensorflow.keras.layers import ReLU\n",
    "\n",
    "model = Sequential([\n",
    "    Dense(128, activation='relu', input_shape=(X_train.shape[1]*X_train.shape[2],)),\n",
    "    Dense(64),\n",
    "    ReLU(),\n",
    "    Dense(10, activation='softmax')\n",
    "])\n",
    "\n",
    "(X_train, y_train), (X_test, y_test) = mnist.load_data();\n",
    "\n",
    "X_train.shape, y_train.shape\n",
    "\n",
    "X_train_trans = X_train.reshape(-1, 28*28)\n",
    "y_train_trans = to_categorical(y_train)\n",
    "opt = 'sgd'\n",
    "loss = 'categorical_crossentropy'\n",
    "metrics = ['accuracy']\n",
    "model.compile(optimizer=opt,\n",
    "              loss=loss,\n",
    "              metrics=metrics)\n",
    "\n",
    "model.fit(X_train_trans, y_train_trans, epochs=10, batch_size=1000)"
   ]
  },
  {
   "cell_type": "code",
   "execution_count": 67,
   "metadata": {},
   "outputs": [
    {
     "name": "stdout",
     "output_type": "stream",
     "text": [
      "1/1 [==============================] - 0s 21ms/step\n",
      "1/1 [==============================] - 0s 46ms/step\n",
      "1/1 [==============================] - 0s 21ms/step\n",
      "1/1 [==============================] - 0s 49ms/step\n",
      "1/1 [==============================] - 0s 52ms/step\n",
      "1/1 [==============================] - 0s 64ms/step\n",
      "1/1 [==============================] - 0s 14ms/step\n",
      "1/1 [==============================] - 0s 49ms/step\n",
      "1/1 [==============================] - 0s 57ms/step\n",
      "1/1 [==============================] - 0s 51ms/step\n",
      "1/1 [==============================] - 0s 60ms/step\n",
      "[1, 1, 1, 1, 1, 1, 1, 1, 1, 1]\n"
     ]
    }
   ],
   "source": [
    "np.argmax(model.predict(X_train[[0]].reshape(1,784)))\n",
    "\n",
    "first = []\n",
    "\n",
    "for i in range(10):\n",
    "    first.append(np.argmax(model.predict(X_train[[i]].reshape(1,784))))\n",
    "\n",
    "print(first)"
   ]
  },
  {
   "cell_type": "code",
   "execution_count": 68,
   "metadata": {},
   "outputs": [
    {
     "name": "stdout",
     "output_type": "stream",
     "text": [
      "Epoch 1/10\n",
      "1875/1875 [==============================] - 6s 3ms/step - loss: 2.3013 - accuracy: 0.1124\n",
      "Epoch 2/10\n",
      "1875/1875 [==============================] - 7s 3ms/step - loss: 2.3013 - accuracy: 0.1124\n",
      "Epoch 3/10\n",
      "1875/1875 [==============================] - 6s 3ms/step - loss: 2.3013 - accuracy: 0.1124\n",
      "Epoch 4/10\n",
      "1875/1875 [==============================] - 6s 3ms/step - loss: 2.3013 - accuracy: 0.1124\n",
      "Epoch 5/10\n",
      "1875/1875 [==============================] - 6s 3ms/step - loss: 2.3014 - accuracy: 0.1124\n",
      "Epoch 6/10\n",
      "1875/1875 [==============================] - 6s 3ms/step - loss: 2.3013 - accuracy: 0.1124\n",
      "Epoch 7/10\n",
      "1875/1875 [==============================] - 6s 3ms/step - loss: 2.3013 - accuracy: 0.1124\n",
      "Epoch 8/10\n",
      "1875/1875 [==============================] - 7s 4ms/step - loss: 2.3013 - accuracy: 0.1124\n",
      "Epoch 9/10\n",
      "1875/1875 [==============================] - 7s 3ms/step - loss: 2.3013 - accuracy: 0.1124\n",
      "Epoch 10/10\n",
      "1875/1875 [==============================] - 8s 4ms/step - loss: 2.3014 - accuracy: 0.1124\n"
     ]
    },
    {
     "data": {
      "text/plain": [
       "<keras.callbacks.History at 0x7f9db77592d0>"
      ]
     },
     "execution_count": 68,
     "metadata": {},
     "output_type": "execute_result"
    }
   ],
   "source": [
    "opt = 'adam'\n",
    "loss = 'categorical_crossentropy'\n",
    "metrics = ['accuracy']\n",
    "model.compile(optimizer=opt,\n",
    "              loss=loss,\n",
    "              metrics=metrics)\n",
    "\n",
    "model.fit(X_train_trans, y_train_trans, epochs=10)"
   ]
  },
  {
   "cell_type": "code",
   "execution_count": 70,
   "metadata": {},
   "outputs": [
    {
     "name": "stdout",
     "output_type": "stream",
     "text": [
      "1/1 [==============================] - 0s 21ms/step\n"
     ]
    },
    {
     "data": {
      "text/plain": [
       "1"
      ]
     },
     "execution_count": 70,
     "metadata": {},
     "output_type": "execute_result"
    }
   ],
   "source": [
    "np.argmax(model.predict(X_train[[1]].reshape(1,784)))"
   ]
  }
 ],
 "metadata": {
  "kernelspec": {
   "display_name": "deep",
   "language": "python",
   "name": "python3"
  },
  "language_info": {
   "codemirror_mode": {
    "name": "ipython",
    "version": 3
   },
   "file_extension": ".py",
   "mimetype": "text/x-python",
   "name": "python",
   "nbconvert_exporter": "python",
   "pygments_lexer": "ipython3",
   "version": "3.10.10"
  },
  "orig_nbformat": 4
 },
 "nbformat": 4,
 "nbformat_minor": 2
}
